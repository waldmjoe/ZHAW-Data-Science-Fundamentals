{
 "cells": [
  {
   "cell_type": "markdown",
   "metadata": {},
   "source": [
    "# <div align=\"center\"> DSF 2. Week: Python Basics"
   ]
  },
  {
   "cell_type": "markdown",
   "metadata": {},
   "source": [
    "In this exercise, you will learn some of the basics of Python.\n",
    "\n",
    "If you are already familiar with Python you can skim through the instruction and only focus on the small exercises at each section, and then go to the challenges at the end of the document.\n",
    "\n",
    "**Remember**, you have to run the cell (`Ctrl + Enter`) to see its output."
   ]
  },
  {
   "cell_type": "markdown",
   "metadata": {},
   "source": [
    "## Contents:\n",
    "1. **Hello world!**\n",
    "1. **Variables**\n",
    "1. **Operations**\n",
    "1. **Containers**\n",
    "1. **Conditionals**\n",
    "1. **Loops**\n",
    "1. **Functions**\n",
    "1. **Challenges**"
   ]
  },
  {
   "cell_type": "markdown",
   "metadata": {},
   "source": [
    "## 1. Hello World!\n",
    "Let's start by printing text! We can print almost anything. Below are examples with text and numbers."
   ]
  },
  {
   "cell_type": "code",
   "execution_count": 1,
   "metadata": {},
   "outputs": [
    {
     "name": "stdout",
     "output_type": "stream",
     "text": [
      "Hello World!\n",
      "5\n",
      "5.1\n",
      "True\n",
      "50\n"
     ]
    }
   ],
   "source": [
    "print(\"Hello World!\")\n",
    "print(5)\n",
    "print(5.1)\n",
    "print(True)\n",
    "print(25 * 2)"
   ]
  },
  {
   "cell_type": "markdown",
   "metadata": {},
   "source": [
    "Commas in the print function will insert spaces between the entries. This will be particularly useful when we want to print a variable with unknown value, or print many things of different data types."
   ]
  },
  {
   "cell_type": "code",
   "execution_count": 2,
   "metadata": {},
   "outputs": [
    {
     "name": "stdout",
     "output_type": "stream",
     "text": [
      "Give me some space.\n",
      "The current year is 2021\n",
      "Jake is 5 years old.\n"
     ]
    }
   ],
   "source": [
    "print(\"Give\", \"me\", \"some\", \"space.\")\n",
    "\n",
    "print(\"The current year is\", 2021)\n",
    "\n",
    "x = 5\n",
    "print(\"Jake is\", x, \"years old.\")"
   ]
  },
  {
   "cell_type": "markdown",
   "metadata": {},
   "source": [
    "```\\n``` gives a newline, and ```\\t``` gives a tab."
   ]
  },
  {
   "cell_type": "code",
   "execution_count": 3,
   "metadata": {},
   "outputs": [
    {
     "name": "stdout",
     "output_type": "stream",
     "text": [
      "This is the first line.\n",
      "This is the second line, with a \t tab.\n"
     ]
    }
   ],
   "source": [
    "print(\"This is the first line.\\nThis is the second line, with a \\t tab.\")"
   ]
  },
  {
   "cell_type": "markdown",
   "metadata": {},
   "source": [
    "**Exercise: Using only one print function, print your name, age and favorite ZHAW course on three different lines.**"
   ]
  },
  {
   "cell_type": "code",
   "execution_count": 5,
   "metadata": {},
   "outputs": [
    {
     "name": "stdout",
     "output_type": "stream",
     "text": [
      "Name: Joël D. Waldmüller\n",
      "30 yrs \n",
      "anything really\n"
     ]
    }
   ],
   "source": [
    "print(\"Name: Joël D. Waldmüller\\n30 yrs \\nanything really\")"
   ]
  },
  {
   "cell_type": "markdown",
   "metadata": {},
   "source": [
    "## 2. Variables\n",
    "### Declare and initialize?\n",
    "C++ is **statically typed** while Python is **dynamically typed**. This means that in C++, variable types are defined during compilation, while in Python they are defined during run-time.\n",
    "\n",
    "Because of this, in C++ you need to both *declare* a variable and its type, and then *initialize* it. In Python, you only need to initialize it. While types exist in Python, they are not written out when defining a variable."
   ]
  },
  {
   "cell_type": "code",
   "execution_count": 7,
   "metadata": {},
   "outputs": [
    {
     "name": "stdout",
     "output_type": "stream",
     "text": [
      "10\n",
      "3.14\n",
      "Epoch of Reionisation\n"
     ]
    }
   ],
   "source": [
    "# defining an integer variable\n",
    "x = 10\n",
    "# defining a double variable\n",
    "y = 3.14\n",
    "# defining a string\n",
    "word = \"Epoch of Reionisation\"\n",
    "\n",
    "# printing the variables\n",
    "print(x)\n",
    "print(y)\n",
    "print(word)"
   ]
  },
  {
   "cell_type": "markdown",
   "metadata": {},
   "source": [
    "In the above example it's easy to see that x is an integer, y is a double, and word is a string. But if you are unsure you can always check the type of a variable using ```type(someVariable)```."
   ]
  },
  {
   "cell_type": "code",
   "execution_count": 8,
   "metadata": {},
   "outputs": [
    {
     "name": "stdout",
     "output_type": "stream",
     "text": [
      "<class 'int'>\n",
      "<class 'float'>\n",
      "<class 'str'>\n"
     ]
    }
   ],
   "source": [
    "print( type(x) )\n",
    "print( type(y) )\n",
    "print( type(word) )"
   ]
  },
  {
   "cell_type": "markdown",
   "metadata": {},
   "source": [
    "### Changing type dynamically\n",
    "A blessing and a curse of Python is that you can change the type of a variable on the fly. Be careful that you don't accidentally change the type of variables unless desired!"
   ]
  },
  {
   "cell_type": "code",
   "execution_count": null,
   "metadata": {},
   "outputs": [],
   "source": [
    "# define an integer\n",
    "z = 7\n",
    "# redefine it as a string\n",
    "z = \"Hello\"\n",
    "\n",
    "print(z)"
   ]
  },
  {
   "cell_type": "markdown",
   "metadata": {},
   "source": [
    "### Type conversion\n",
    "If you have the number 64 stored as a string, but want to use it in computation, you can **cast** the string to an integer. To cast a variable to a different type, simply \"wrap\" it inside the type name. You can cast variables that \"make sense\" to cast. For example, you can cast 13 to a string \"13\" but you can't cast \"hello world!\" to a double (what would that even mean?)."
   ]
  },
  {
   "cell_type": "code",
   "execution_count": null,
   "metadata": {
    "scrolled": false
   },
   "outputs": [],
   "source": [
    "x = \"64\"\n",
    "# Need to cast x to an integer otherwise you get an error because you can't add an 'int' with a 'string'\n",
    "print( 1 + int(x) )"
   ]
  },
  {
   "cell_type": "markdown",
   "metadata": {},
   "source": [
    "Here is a list of common casts:\n",
    "* Integer: ```int()```\n",
    "* Double/Float: ```float()```\n",
    "* String: ```str()```\n",
    "\n",
    "**Exercise: Create a variable holding a decimal number and cast it to an integer. What happens with the value?**"
   ]
  },
  {
   "cell_type": "code",
   "execution_count": 12,
   "metadata": {},
   "outputs": [
    {
     "name": "stdout",
     "output_type": "stream",
     "text": [
      "3\n"
     ]
    }
   ],
   "source": [
    "x = 3.333212\n",
    "y = int(x)\n",
    "print(y)"
   ]
  },
  {
   "cell_type": "markdown",
   "metadata": {},
   "source": [
    "## 3. Operations\n",
    "### Numerical\n",
    "Operations of numbers work similar to C++."
   ]
  },
  {
   "cell_type": "code",
   "execution_count": null,
   "metadata": {},
   "outputs": [],
   "source": [
    "# addition\n",
    "print(5 + 5)\n",
    "\n",
    "# subtraction\n",
    "print(10 - 20)\n",
    "\n",
    "# multiplication\n",
    "print(3 * 3)\n",
    "\n",
    "# division\n",
    "print(100 / 2)\n",
    "\n",
    "# integer division\n",
    "print(7 // 2)\n",
    "\n",
    "# remainder\n",
    "print(7 % 2)\n",
    "\n",
    "# power\n",
    "print(2**10)"
   ]
  },
  {
   "cell_type": "markdown",
   "metadata": {},
   "source": [
    "### Strings\n",
    "We can use ```+``` for strings to concatenate them."
   ]
  },
  {
   "cell_type": "code",
   "execution_count": null,
   "metadata": {},
   "outputs": [],
   "source": [
    "fake_language = \"Återvänd\" + \" till\" + \" apa.\"\n",
    "print(fake_language)"
   ]
  },
  {
   "cell_type": "markdown",
   "metadata": {},
   "source": [
    "### Operations with variables\n",
    "If a variable is an integer or float, then we can do operations like normal with them."
   ]
  },
  {
   "cell_type": "code",
   "execution_count": null,
   "metadata": {},
   "outputs": [],
   "source": [
    "x = 5\n",
    "y = x + 3\n",
    "z = y - x\n",
    "print(\"z =\", z)"
   ]
  },
  {
   "cell_type": "markdown",
   "metadata": {},
   "source": [
    "We can also use increment, decrement, and similar operators to update the value of a variable."
   ]
  },
  {
   "cell_type": "code",
   "execution_count": null,
   "metadata": {},
   "outputs": [],
   "source": [
    "x = 100\n",
    "\n",
    "# same as x = x + 1\n",
    "x += 1\n",
    "\n",
    "# same as x = x -1\n",
    "x -= 1\n",
    "\n",
    "# same as x = x * 5\n",
    "x *= 5\n",
    "\n",
    "# same as x = x / 10\n",
    "x /= 10\n",
    "\n",
    "# same as x // 3\n",
    "x //= 3\n",
    "\n",
    "# same as x = x % 6\n",
    "x %= 6\n",
    "\n",
    "# same as x = x**5\n",
    "x **= 5"
   ]
  },
  {
   "cell_type": "markdown",
   "metadata": {},
   "source": [
    "A very common use of this is to increment a variable by one: ```x += 1```"
   ]
  },
  {
   "cell_type": "markdown",
   "metadata": {},
   "source": [
    "## 4. Containers\n",
    "Variables like integers, floats and strings are good when we only have one value to keep track of. If we have multiple values we can use a container like:\n",
    "\n",
    "1. List\n",
    "1. Dictionary\n",
    "\n",
    "There are many more containers but today we will focus on these two.\n",
    "\n",
    "### Lists\n",
    "Lists are similar to arrays in C++, except that can change in size. Common operations on a list include:\n",
    "\n",
    "1. **Access single element** ```my_list[0]``` will retrieve the first element in the list.\n",
    "1. **Append to the list** ```my_list.append(\"ZHAW\")```\n",
    "1. **Delete items at between index a and b** ```del my_list[a:b]``` if you leave a empty, start from beginning to b, and vice versa.\n",
    "1. **Remove a certain element** ```my_list.remove(\"rabbit\")``` will remove \"rabbit\" if it exists in the list.\n",
    "1. **Sum over all values** ```sum(someList)```\n",
    "1. **Maximum/minimum value in the list** ```max(myList)``` or ```min(myList)```\n",
    "\n",
    "A list is created using ```[]```."
   ]
  },
  {
   "cell_type": "code",
   "execution_count": null,
   "metadata": {},
   "outputs": [],
   "source": [
    "# create a list with some integers\n",
    "years = [1997, 2000, 2002]\n",
    "\n",
    "# elements don't have to share datatype!\n",
    "some_list = [1, \"hello\", 2.7]\n",
    "\n",
    "# you can print lists\n",
    "print(\"Years:\",years)\n",
    "\n",
    "# print second element of a list and last element\n",
    "print(\"Second element of years\", years[1])\n",
    "print(\"Last element of years\", years[-1])\n",
    "\n",
    "# change the 1st element of a list\n",
    "years[0] = 1776\n",
    "\n",
    "# append to the list\n",
    "years.append(2025)\n",
    "\n",
    "# sum over all values\n",
    "sum_of_years = sum(years)\n",
    "\n",
    "# minimum year\n",
    "minimum = min(years)\n",
    "\n",
    "# remove an element\n",
    "years.remove(2000)\n",
    "\n",
    "# delete first element\n",
    "del years[0]\n",
    "\n",
    "# you can also create an empty list and then append stuff to it\n",
    "empty_list = []"
   ]
  },
  {
   "cell_type": "markdown",
   "metadata": {},
   "source": [
    "### Exercise: Create a list with your name (string), age (integer), height in meters (double), and favorite animal (string). After this, change the animal element to \"Penguin\"."
   ]
  },
  {
   "cell_type": "code",
   "execution_count": 13,
   "metadata": {},
   "outputs": [
    {
     "name": "stdout",
     "output_type": "stream",
     "text": [
      "['Joel', 30, 1.65, 'fox']\n",
      "30\n",
      "['Joel', 30, 1.65, 'Penguin']\n"
     ]
    }
   ],
   "source": [
    "random_shit = [\"Joel\", 30, 1.65, \"fox\"]\n",
    "print(random_shit)\n",
    "print(random_shit[1])\n",
    "random_shit [-1]=\"Penguin\"\n",
    "print (random_shit)"
   ]
  },
  {
   "cell_type": "markdown",
   "metadata": {},
   "source": [
    "### Dictionaries\n",
    "The basic idea is that the **value** of the elements in the container is tied to a **key**. To access a value in a dictionary, we use the key, not the position like in a list. This is very useful when we want to access a certain value given some other value, like a list of students and their grades. \n",
    "\n",
    "A dictionary is created using ```{}```.\n",
    "\n",
    "The keys and values can be any datatype, and they don't need to be the same datatype."
   ]
  },
  {
   "cell_type": "code",
   "execution_count": null,
   "metadata": {},
   "outputs": [],
   "source": [
    "# A dictionary initiliazed with keys and values: Keys are names, values are grades\n",
    "grades = {\"Axel\": 4.0, \"Albert\": 5.5, \"Michael\": 6.0}\n",
    "print(grades)\n",
    "\n",
    "# access the value via the key\n",
    "print(\"Grade of Axel\", grades[\"Axel\"])\n",
    "\n",
    "# I can change the value as well\n",
    "grades[\"Axel\"] = 6.0\n",
    "print(grades)\n",
    "\n",
    "# I can also add a completely new person to the dictionary\n",
    "grades[\"Kenyan Drake\"] = 5.0\n",
    "print(grades)\n",
    "\n",
    "# Create an empty dictionary\n",
    "empty_dictionary = {}"
   ]
  },
  {
   "cell_type": "markdown",
   "metadata": {},
   "source": [
    "**Exercise: Create a dictionary with keys \"year\", \"month\" and \"day\" and initialize values to today's date. Then, increment the day by 1.**"
   ]
  },
  {
   "cell_type": "code",
   "execution_count": 15,
   "metadata": {},
   "outputs": [
    {
     "name": "stdout",
     "output_type": "stream",
     "text": [
      "{'year': 2023, 'month:': 'September', 'day': 31}\n"
     ]
    }
   ],
   "source": [
    "dicty={\"year\":2023,\"month:\":\"September\", \"day\":30}\n",
    "dicty[\"day\"]+=1\n",
    "print(dicty)"
   ]
  },
  {
   "cell_type": "markdown",
   "metadata": {},
   "source": [
    "## 5. Conditionals\n",
    "### if, elif, else\n",
    "The syntax for if-else statements is very simple. **However**, notice that unlike C++, there are no brackets enclosing the block of code belonging to the if-statement! Instead, there is only indentation. This is true in general and not only for if-statements. **In Python, indentation plays the role of brackets. Make sure your indentations are aligned properly so that code belonging to the same block doesn't end up in the wrong block.** The if-statement ends when at the first line of **unindented** code."
   ]
  },
  {
   "cell_type": "code",
   "execution_count": null,
   "metadata": {
    "scrolled": true
   },
   "outputs": [],
   "source": [
    "x = 5\n",
    "\n",
    "# if\n",
    "if x == 10:\n",
    "    print(\"You will only see this if x was 10\")\n",
    "\n",
    "    \n",
    "# if else\n",
    "if x > 0:\n",
    "    print(\"You will only see this if x is positive\")\n",
    "else:\n",
    "    print(\"You will only see this if x is zero or negative\")\n",
    "    \n",
    "# if, else if, and else\n",
    "if x > 100:\n",
    "    print(\"x is over 100\")\n",
    "elif x == 5:\n",
    "    print(\"x is 5\")\n",
    "else:\n",
    "    print(\"x is neither 5 nor over 100\")"
   ]
  },
  {
   "cell_type": "markdown",
   "metadata": {},
   "source": [
    "### Operations valid in conditionals\n",
    "Below is a table with operations that can be used in conditionals.\n",
    "\n",
    "| **Symbol** | **Operation** | **Example (Value)** |\n",
    "|----:|---------------:|-----------:\n",
    "| == | is equal to | 5 == 5 (True) |\n",
    "| **is** | is equal to (NOTE: single = is assignment, double == is 'equal to') |\n",
    "| < | less than | |\n",
    "| >= | greater or equal than | |\n",
    "| <= | less or equal than | |\n",
    "| **or** | logical OR | True or False (True) |\n",
    "| **and** | logical AND | True and False (False) |\n",
    "| **in** | checks whether something is inside a container | \"james\" in list_of_names (True if James is in the list of names) |"
   ]
  },
  {
   "cell_type": "markdown",
   "metadata": {},
   "source": [
    "Below is an example of ```and``` and ```or```."
   ]
  },
  {
   "cell_type": "code",
   "execution_count": 16,
   "metadata": {},
   "outputs": [
    {
     "name": "stdout",
     "output_type": "stream",
     "text": [
      "What is the truth value for this/that?\n",
      "one is true\n"
     ]
    },
    {
     "ename": "NameError",
     "evalue": "name 'fruits' is not defined",
     "output_type": "error",
     "traceback": [
      "\u001b[1;31m---------------------------------------------------------------------------\u001b[0m",
      "\u001b[1;31mNameError\u001b[0m                                 Traceback (most recent call last)",
      "Cell \u001b[1;32mIn[16], line 12\u001b[0m\n\u001b[0;32m      9\u001b[0m \u001b[38;5;28;01melse\u001b[39;00m:\n\u001b[0;32m     10\u001b[0m     \u001b[38;5;28mprint\u001b[39m(\u001b[38;5;124m\"\u001b[39m\u001b[38;5;124mneither are true\u001b[39m\u001b[38;5;124m\"\u001b[39m)\n\u001b[1;32m---> 12\u001b[0m \u001b[38;5;28mprint\u001b[39m(\u001b[38;5;124m\"\u001b[39m\u001b[38;5;130;01m\\n\u001b[39;00m\u001b[38;5;124mIs \u001b[39m\u001b[38;5;124m'\u001b[39m\u001b[38;5;124mapple\u001b[39m\u001b[38;5;124m'\u001b[39m\u001b[38;5;124m in the fruit list?\u001b[39m\u001b[38;5;124m\"\u001b[39m, \u001b[38;5;124m\"\u001b[39m\u001b[38;5;124mapple\u001b[39m\u001b[38;5;124m\"\u001b[39m \u001b[38;5;129;01min\u001b[39;00m fruits)\n",
      "\u001b[1;31mNameError\u001b[0m: name 'fruits' is not defined"
     ]
    }
   ],
   "source": [
    "this = True\n",
    "that = False\n",
    "\n",
    "print(\"What is the truth value for this/that?\")\n",
    "if this and that:\n",
    "    print(\"both are true\")\n",
    "elif this or that:\n",
    "    print(\"one is true\")\n",
    "else:\n",
    "    print(\"neither are true\")\n",
    "\n",
    "print(\"\\nIs 'apple' in the fruit list?\", \"apple\" in fruits)"
   ]
  },
  {
   "cell_type": "markdown",
   "metadata": {},
   "source": [
    "### Exercise: Define a variable x = 3038 write a conditional that will print whether x is divisible by 7 or not"
   ]
  },
  {
   "cell_type": "code",
   "execution_count": 23,
   "metadata": {},
   "outputs": [
    {
     "name": "stdout",
     "output_type": "stream",
     "text": [
      "False\n",
      "no\n"
     ]
    }
   ],
   "source": [
    "x = 3039\n",
    "\n",
    "print(x%7==0)\n",
    "\n",
    "if x%7==0:\n",
    "    print (\"yo\")\n",
    "else:\n",
    "    print (\"no\")\n",
    "    \n",
    "    "
   ]
  },
  {
   "cell_type": "markdown",
   "metadata": {},
   "source": [
    "## 6. Loops\n",
    "There are two types of loops in Python: ```for``` and ```while```. Use the For loop when you know how many times you want to iterate the loop. Use the While loop when you don't know how many times you want to iterate the loop.\n",
    "\n",
    "In C++ you use brackets {} to indicate the block of code belonging to a loop. In Python we use **indentation**."
   ]
  },
  {
   "cell_type": "markdown",
   "metadata": {},
   "source": [
    "### For loops\n",
    "In Python For loops iterate over elements in a sequence (either a list, a tuple, a dictionary, a set, or a string). Unlike C++, you do not need to define an incrementing indexing variable (such as ```i```)."
   ]
  },
  {
   "cell_type": "code",
   "execution_count": null,
   "metadata": {},
   "outputs": [],
   "source": [
    "# create a list\n",
    "fruits = [\"apple\", \"banana\", \"feijoa\"]\n",
    "\n",
    "# iterate through the items of the list and print them\n",
    "for f in fruits:\n",
    "    print(f)"
   ]
  },
  {
   "cell_type": "markdown",
   "metadata": {},
   "source": [
    "When iterating through dictionaries, your iterator will be the keys of the dictionary."
   ]
  },
  {
   "cell_type": "code",
   "execution_count": null,
   "metadata": {},
   "outputs": [],
   "source": [
    "# create a dictionary\n",
    "scores = {\"Hanna\": 4, \"Markus\": 3, \"Amat\": 5}\n",
    "\n",
    "# iterate through its keys\n",
    "for key in scores:\n",
    "    print(\"Key:\", key, \"Value:\", scores[key])"
   ]
  },
  {
   "cell_type": "markdown",
   "metadata": {},
   "source": [
    "To iterate through two containers at once, use the ```zip()``` function."
   ]
  },
  {
   "cell_type": "code",
   "execution_count": null,
   "metadata": {},
   "outputs": [],
   "source": [
    "cities = [\"Chicago\", \"London\", \"Zuerich\"]\n",
    "countries = [\"USA\", \"England\", \"Switzerland\"]\n",
    "\n",
    "for city, country in zip(cities, countries):\n",
    "    print(city, \"is in\", country)"
   ]
  },
  {
   "cell_type": "markdown",
   "metadata": {},
   "source": [
    "### Exercise: Increment each value in the car brand dictionary by 1 using a for loop"
   ]
  },
  {
   "cell_type": "code",
   "execution_count": 25,
   "metadata": {},
   "outputs": [
    {
     "name": "stdout",
     "output_type": "stream",
     "text": [
      "1\n",
      "6\n",
      "15\n",
      "{'honda': 1, 'volvo': 6, 'saab': 15}\n"
     ]
    }
   ],
   "source": [
    "# the dictionary\n",
    "my_dictionary = {\"honda\": 0, \"volvo\": 5, \"saab\": 14}\n",
    "\n",
    "for key in my_dictionary:\n",
    "    my_dictionary[key]+=1\n",
    "    print(my_dictionary[key])\n",
    "print(my_dictionary)\n",
    "# enter your code here to increment each car brand by 1"
   ]
  },
  {
   "cell_type": "markdown",
   "metadata": {},
   "source": [
    "### Using range() to get indexing variable\n",
    "If we *do* want an incrementing indexing variable we will use the ```range()``` function, which creates a sequence of numbers to iterate through. By default, ```range(x)``` will contain 0 to x-1 in integer steps. We can also add more parameters to define *start, stop, step size*: ```range(start, stop, step)```. Note that *start* is inclusive, while *stop* is not. *Step* can either be positive or negative, but needs to be integer.\n",
    "\n",
    "It's common to combine ```range()``` and ```len()``` to iterate through the indices of a container."
   ]
  },
  {
   "cell_type": "code",
   "execution_count": 26,
   "metadata": {},
   "outputs": [
    {
     "name": "stdout",
     "output_type": "stream",
     "text": [
      "0\n",
      "1\n",
      "2\n",
      "3\n",
      "4\n",
      "5\n",
      "6\n",
      "7\n",
      "8\n",
      "9\n"
     ]
    }
   ],
   "source": [
    "# iterate i from 0 to 9\n",
    "for i in range(10):\n",
    "    print(i)"
   ]
  },
  {
   "cell_type": "code",
   "execution_count": 27,
   "metadata": {},
   "outputs": [
    {
     "ename": "NameError",
     "evalue": "name 'fruits' is not defined",
     "output_type": "error",
     "traceback": [
      "\u001b[1;31m---------------------------------------------------------------------------\u001b[0m",
      "\u001b[1;31mNameError\u001b[0m                                 Traceback (most recent call last)",
      "Cell \u001b[1;32mIn[27], line 2\u001b[0m\n\u001b[0;32m      1\u001b[0m \u001b[38;5;66;03m# using an index to iterate through the fruit list\u001b[39;00m\n\u001b[1;32m----> 2\u001b[0m \u001b[38;5;28;01mfor\u001b[39;00m i \u001b[38;5;129;01min\u001b[39;00m \u001b[38;5;28mrange\u001b[39m(\u001b[38;5;28mlen\u001b[39m(fruits)):\n\u001b[0;32m      3\u001b[0m     \u001b[38;5;28mprint\u001b[39m(fruits[i], \u001b[38;5;124m\"\u001b[39m\u001b[38;5;124mis at position number\u001b[39m\u001b[38;5;124m\"\u001b[39m, i, \u001b[38;5;124m\"\u001b[39m\u001b[38;5;124min the list.\u001b[39m\u001b[38;5;124m\"\u001b[39m)\n",
      "\u001b[1;31mNameError\u001b[0m: name 'fruits' is not defined"
     ]
    }
   ],
   "source": [
    "# using an index to iterate through the fruit list\n",
    "for i in range(len(fruits)):\n",
    "    print(fruits[i], \"is at position number\", i, \"in the list.\")"
   ]
  },
  {
   "cell_type": "code",
   "execution_count": 28,
   "metadata": {},
   "outputs": [
    {
     "name": "stdout",
     "output_type": "stream",
     "text": [
      "10\n",
      "15\n",
      "20\n",
      "25\n",
      "30\n",
      "35\n",
      "40\n",
      "45\n"
     ]
    }
   ],
   "source": [
    "# iterate from 10 to 50 in steps of 5\n",
    "for i in range(10,50,5):\n",
    "    print(i)"
   ]
  },
  {
   "cell_type": "markdown",
   "metadata": {},
   "source": [
    "### Exercise: Print all integers from 100 to 80 backwards in steps of 2"
   ]
  },
  {
   "cell_type": "code",
   "execution_count": 33,
   "metadata": {},
   "outputs": [
    {
     "name": "stdout",
     "output_type": "stream",
     "text": [
      "100\n",
      "98\n",
      "96\n",
      "94\n",
      "92\n",
      "90\n",
      "88\n",
      "86\n",
      "84\n",
      "82\n",
      "80\n"
     ]
    }
   ],
   "source": [
    "for i in range(100,78,-2):\n",
    "    print(i)"
   ]
  },
  {
   "cell_type": "markdown",
   "metadata": {},
   "source": [
    "### While loops\n",
    "```while(condition)``` loops will keep iterating until the given condition is no longer true. For example, ```while(x < 5)``` will keep executing its block of code until x is NOT less than 5.\n",
    "\n",
    "The condition is checked before each time the block in the loop is run."
   ]
  },
  {
   "cell_type": "code",
   "execution_count": null,
   "metadata": {},
   "outputs": [],
   "source": [
    "x = 0\n",
    "\n",
    "while(x < 5):\n",
    "    print(\"inside the loop, and x is\", x)\n",
    "    # increment x\n",
    "    x += 1\n",
    "print(\"outside the loop, and x is\",x)"
   ]
  },
  {
   "cell_type": "markdown",
   "metadata": {},
   "source": [
    "A simple use of a while loop is to check that user input satisfies certain criteria. A for loop would not be very suitable for this, since we don't know how many tries it would take before the user gets it correctly.\n",
    "\n",
    "Below is an example of entering the correct name for a roman emperor. *Note that if you get it correctly the first try, you will not even enter the loop!*\n",
    "\n",
    "The ```input(\"some message\")``` function will prompt the user for an input in the console, and then return that input as its return value."
   ]
  },
  {
   "cell_type": "code",
   "execution_count": null,
   "metadata": {},
   "outputs": [],
   "source": [
    "emperor_name = input(\"Please enter the name of the Roman Emperor ruling between 27 BC - AD 14: \")\n",
    "while(emperor_name != \"Augustus Caesar\"):\n",
    "    emperor_name = input(\"Wrong name, please try again: \")\n",
    "print(\"That is correct!\")"
   ]
  },
  {
   "cell_type": "markdown",
   "metadata": {},
   "source": [
    "### Avoiding infinite loops\n",
    "When you write a while loop, you *NEED* to make sure that the loop has an **exit condition**. If there is no chance for the condition to be false, then you will have an infinite loop, and the rest of your code will not run. For example, ```while(True): doSomething()``` would run infinitely since True is never False (duh)."
   ]
  },
  {
   "cell_type": "markdown",
   "metadata": {},
   "source": [
    "### Exercise: Create a variable x = 2 and create a while loop with condition x <= 1024. In the loop, update x by squaring it. Count how many times the loop runs before exiting.\n",
    "\n",
    "**Hint:** Use a variable i to keep track of how many times the loop has executed."
   ]
  },
  {
   "cell_type": "code",
   "execution_count": 36,
   "metadata": {},
   "outputs": [
    {
     "name": "stdout",
     "output_type": "stream",
     "text": [
      "4\n"
     ]
    }
   ],
   "source": [
    "x=2\n",
    "i=0\n",
    "while(x<=1024):\n",
    "    x*=x\n",
    "    i+=1\n",
    "print(i)    "
   ]
  },
  {
   "cell_type": "markdown",
   "metadata": {},
   "source": [
    "## 7. Functions"
   ]
  },
  {
   "cell_type": "markdown",
   "metadata": {},
   "source": [
    "In the class saw all the main elements composing a function. Let's see an example of it."
   ]
  },
  {
   "cell_type": "code",
   "execution_count": 38,
   "metadata": {},
   "outputs": [],
   "source": [
    "def my_function(param1, param2 = 3):\n",
    "    if param1 == param2: \n",
    "        print(\"The 2 parameters have the same value\")\n",
    "        return None\n",
    "    else: \n",
    "        summe = param1 + param2\n",
    "        print(summe)\n",
    "        return summe"
   ]
  },
  {
   "cell_type": "code",
   "execution_count": 39,
   "metadata": {},
   "outputs": [
    {
     "name": "stdout",
     "output_type": "stream",
     "text": [
      "4\n",
      "7.0\n",
      "The 2 parameters have the same value\n",
      "The 2 parameters have the same value\n"
     ]
    }
   ],
   "source": [
    "my_function(1)\n",
    "my_function(1.4, 5.6)\n",
    "my_function(3)\n",
    "my_function(3,3)\n"
   ]
  },
  {
   "cell_type": "markdown",
   "metadata": {},
   "source": [
    "### Exercise: Define your own function which accepts 1 string input (default being \"Annina\"). If the string ends with letter \"a\" or \"e\", function will print \"Dear Mrs\" and the input, otherwise will print \"Dear Mr\" and the input. Return the number of letters in the input. "
   ]
  },
  {
   "cell_type": "code",
   "execution_count": 41,
   "metadata": {},
   "outputs": [
    {
     "name": "stdout",
     "output_type": "stream",
     "text": [
      "Dear Mrs\n",
      "Dear Mr\n"
     ]
    },
    {
     "data": {
      "text/plain": [
       "4"
      ]
     },
     "execution_count": 41,
     "metadata": {},
     "output_type": "execute_result"
    }
   ],
   "source": [
    "def fck(a=\"Annina\"):\n",
    "    if a[-1]==\"a\" or a[-1]==\"e\":\n",
    "        print(\"Dear Mrs\")\n",
    "        return len(a)\n",
    "    else:\n",
    "        print(\"Dear Mr\")\n",
    "        return len(a)\n",
    "fck()\n",
    "fck(\"Joel\")\n",
    "    "
   ]
  },
  {
   "cell_type": "markdown",
   "metadata": {},
   "source": [
    "## 8. Challenges\n",
    "\n",
    "#### 1. Print all numbers between 0-99 divisible by 7"
   ]
  },
  {
   "cell_type": "code",
   "execution_count": 43,
   "metadata": {},
   "outputs": [
    {
     "name": "stdout",
     "output_type": "stream",
     "text": [
      "7\n",
      "14\n",
      "21\n",
      "28\n",
      "35\n",
      "42\n",
      "49\n",
      "56\n",
      "63\n",
      "70\n",
      "77\n",
      "84\n",
      "91\n",
      "98\n"
     ]
    }
   ],
   "source": [
    "for i in range(1,100):\n",
    "    if i%7==0:\n",
    "        print(i)"
   ]
  },
  {
   "cell_type": "markdown",
   "metadata": {},
   "source": [
    "#### 2. Roll a dice 1000 times and store the results in a dictionary\n",
    "Use the following code to simulate a dice roll. To ask for user's input, use input() https://www.w3schools.com/python/ref_func_input.asp)"
   ]
  },
  {
   "cell_type": "code",
   "execution_count": 44,
   "metadata": {},
   "outputs": [
    {
     "name": "stdout",
     "output_type": "stream",
     "text": [
      "6\n"
     ]
    }
   ],
   "source": [
    "from random import randint as dice\n",
    "\n",
    "# call dice(1,6) to get a random number between 1 and 6 (inclusive)\n",
    "x = dice(1,6)\n",
    "print(x)\n",
    "\n",
    "# A dictionary initiliazed with keys and values: Keys are names, values are grades\n",
    "grades = {\"Axel\": 4.0, \"Albert\": 5.5, \"Michael\": 6.0}\n",
    "print(grades)\n",
    "\n",
    "# access the value via the key\n",
    "print(\"Grade of Axel\", grades[\"Axel\"])\n",
    "\n",
    "# I can change the value as well\n",
    "grades[\"Axel\"] = 6.0\n",
    "print(grades)\n",
    "\n",
    "# I can also add a completely new person to the dictionary\n",
    "grades[\"Kenyan Drake\"] = 5.0\n",
    "print(grades)\n",
    "\n",
    "# Create an empty dictionary\n",
    "empty_dictionary = {}"
   ]
  },
  {
   "cell_type": "markdown",
   "metadata": {},
   "source": [
    "**HINTS**\n",
    "* What should the keys and the values be of the dictionary?\n",
    "* Print the dictionary, does the distribution make sense?\n"
   ]
  },
  {
   "cell_type": "code",
   "execution_count": 57,
   "metadata": {},
   "outputs": [
    {
     "data": {
      "image/png": "[encoded data removed]",
      "text/plain": [
       "<Figure size 640x480 with 1 Axes>"
      ]
     },
     "metadata": {},
     "output_type": "display_data"
    },
    {
     "data": {
      "image/png": "[encoded data removed]",
      "text/plain": [
       "<Figure size 640x480 with 2 Axes>"
      ]
     },
     "metadata": {},
     "output_type": "display_data"
    }
   ],
   "source": [
    "from random import randint as dice\n",
    "import pandas as pd\n",
    "import numpy as np\n",
    "import matplotlib.pyplot as plt\n",
    "import scipy.stats as stats\n",
    "\n",
    "\n",
    "for i in range(1,1001,1):\n",
    "    dice_rolls[i]=dice(1,6)\n",
    "\n",
    "    \n",
    "l_list = [k for k, v in dice_rolls.items() for _ in range(v)]\n",
    "\n",
    "fig, ax = plt.subplots(1, 1)\n",
    "fig, ax = plt.subplots(1, 1)\n",
    "\n",
    "ax.scatter(dice_rolls.keys(), dice_rolls.values())\n",
    "ax.set_xlabel('Key')\n",
    "ax.set_ylabel('Length of value')\n",
    "\n",
    "mu = np.mean(l_list)\n",
    "sigma = np.std(l_list)\n",
    "\n",
    "u = np.linspace(mu - 4 * sigma, mu + 4 * sigma, 100)\n",
    "ax2 = ax.twinx()\n",
    "ax2.plot(u, stats.norm.pdf(u, mu, sigma), color='crimson')\n",
    "ax2.set_ylabel('normal curve')\n",
    "\n",
    "plt.show()\n"
   ]
  },
  {
   "cell_type": "markdown",
   "metadata": {},
   "source": [
    "#### 3. Do you want to play Rock, Paper, Scissors?"
   ]
  },
  {
   "cell_type": "markdown",
   "metadata": {},
   "source": [
    "Make a Rock-Paper-Scissors game against your computer. (Hint: Ask for player choice (using input, https://www.w3schools.com/python/ref_func_input.asp), let the computer choose a random element from the 3 possible plays (https://docs.python.org/3/library/random.html), compare the two choices, print out a message of congratulations to the winner)\n",
    "\n",
    "Remember the rules:\n",
    "\n",
    "Rock beats scissors <br>\n",
    "Scissors beats paper  <br>\n",
    "Paper beats rock <br>"
   ]
  },
  {
   "cell_type": "code",
   "execution_count": null,
   "metadata": {},
   "outputs": [],
   "source": [
    "from random import choice #to select a random element from the list \n",
    "\n",
    "#inser your code here "
   ]
  }
 ],
 "metadata": {
  "kernelspec": {
   "display_name": "Python 3 (ipykernel)",
   "language": "python",
   "name": "python3"
  },
  "language_info": {
   "codemirror_mode": {
    "name": "ipython",
    "version": 3
   },
   "file_extension": ".py",
   "mimetype": "text/x-python",
   "name": "python",
   "nbconvert_exporter": "python",
   "pygments_lexer": "ipython3",
   "version": "3.11.4"
  }
 },
 "nbformat": 4,
 "nbformat_minor": 4
}
